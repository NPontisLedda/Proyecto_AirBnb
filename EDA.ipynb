{
  "nbformat": 4,
  "nbformat_minor": 0,
  "metadata": {
    "colab": {
      "provenance": [],
      "mount_file_id": "1XHS1mmk9TJpa7nyzKXs-DSLnkMDEmFl5",
      "authorship_tag": "ABX9TyP6nD14qwvxcGLEXjFJBnoJ",
      "include_colab_link": true
    },
    "kernelspec": {
      "name": "python3",
      "display_name": "Python 3"
    },
    "language_info": {
      "name": "python"
    }
  },
  "cells": [
    {
      "cell_type": "markdown",
      "metadata": {
        "id": "view-in-github",
        "colab_type": "text"
      },
      "source": [
        "<a href=\"https://colab.research.google.com/github/NPontisLedda/Proyecto_AirBnb/blob/main/EDA.ipynb\" target=\"_parent\"><img src=\"https://colab.research.google.com/assets/colab-badge.svg\" alt=\"Open In Colab\"/></a>"
      ]
    },
    {
      "cell_type": "markdown",
      "source": [
        "# EDA (Análisis exploratorio de datos) de AirBnb"
      ],
      "metadata": {
        "id": "Htcipgqarh6l"
      }
    },
    {
      "cell_type": "markdown",
      "source": [
        "###### En este notebook se va a llevar a cabo todo el análisis exploratorio de los datos obtenidos, luego de realizar todo el proceso de ETL con los datos originales."
      ],
      "metadata": {
        "id": "X6BY6ISXryC6"
      }
    },
    {
      "cell_type": "code",
      "source": [
        "# Importamos las librerías que van a ser necesarias.\n",
        "\n",
        "import numpy as np\n",
        "import pandas as pd\n",
        "import seaborn as sb\n",
        "import matplotlib.pyplot as plt\n"
      ],
      "metadata": {
        "id": "wzW8U9nTsS7G"
      },
      "execution_count": 1,
      "outputs": []
    },
    {
      "cell_type": "markdown",
      "source": [
        "### Calendar"
      ],
      "metadata": {
        "id": "YNMgo1h6sLZl"
      }
    },
    {
      "cell_type": "code",
      "execution_count": 2,
      "metadata": {
        "id": "sdAWtHr3rPrh"
      },
      "outputs": [],
      "source": [
        "df_calendar = pd.read_csv('/content/drive/MyDrive/Proyectos/Proyecto_AirBnb/Datasets para EDA/calendar_limpio.csv')"
      ]
    },
    {
      "cell_type": "code",
      "source": [
        "df_calendar.info()"
      ],
      "metadata": {
        "colab": {
          "base_uri": "https://localhost:8080/"
        },
        "id": "aLqAYh8Hs43E",
        "outputId": "ad53d894-d8a2-4655-91d7-8e93822e33f8"
      },
      "execution_count": 7,
      "outputs": [
        {
          "output_type": "stream",
          "name": "stdout",
          "text": [
            "<class 'pandas.core.frame.DataFrame'>\n",
            "RangeIndex: 8661181 entries, 0 to 8661180\n",
            "Data columns (total 6 columns):\n",
            " #   Column          Dtype  \n",
            "---  ------          -----  \n",
            " 0   listing_id      int64  \n",
            " 1   date            object \n",
            " 2   price           object \n",
            " 3   adjusted_price  object \n",
            " 4   minimum_nights  float64\n",
            " 5   maximum_nights  float64\n",
            "dtypes: float64(2), int64(1), object(3)\n",
            "memory usage: 396.5+ MB\n"
          ]
        }
      ]
    },
    {
      "cell_type": "markdown",
      "source": [
        "### Listings"
      ],
      "metadata": {
        "id": "y59Dv5f1xeCV"
      }
    },
    {
      "cell_type": "code",
      "source": [
        "df_listings = pd.read_csv('/content/drive/MyDrive/Proyectos/Proyecto_AirBnb/Datasets para EDA/listings_limpio.csv')"
      ],
      "metadata": {
        "id": "j5vRUyw9xjVd"
      },
      "execution_count": 8,
      "outputs": []
    },
    {
      "cell_type": "code",
      "source": [
        "df_listings.info()"
      ],
      "metadata": {
        "colab": {
          "base_uri": "https://localhost:8080/"
        },
        "id": "j8RGBWrWxtQj",
        "outputId": "3341d255-b157-4ee5-85b7-4a86819d0251"
      },
      "execution_count": 17,
      "outputs": [
        {
          "output_type": "stream",
          "name": "stdout",
          "text": [
            "<class 'pandas.core.frame.DataFrame'>\n",
            "RangeIndex: 23729 entries, 0 to 23728\n",
            "Data columns (total 15 columns):\n",
            " #   Column                 Non-Null Count  Dtype  \n",
            "---  ------                 --------------  -----  \n",
            " 0   listing_id             23729 non-null  int64  \n",
            " 1   name                   23729 non-null  object \n",
            " 2   space                  23729 non-null  object \n",
            " 3   description            23729 non-null  object \n",
            " 4   neighborhood_overview  23729 non-null  object \n",
            " 5   street                 23729 non-null  object \n",
            " 6   neighbourhood          23729 non-null  object \n",
            " 7   city                   23729 non-null  object \n",
            " 8   state                  23729 non-null  object \n",
            " 9   country                23729 non-null  object \n",
            " 10  latitude               23729 non-null  float64\n",
            " 11  longitude              23729 non-null  float64\n",
            " 12  property_type          23729 non-null  object \n",
            " 13  amenities              23729 non-null  object \n",
            " 14  price                  23729 non-null  object \n",
            "dtypes: float64(2), int64(1), object(12)\n",
            "memory usage: 2.7+ MB\n"
          ]
        }
      ]
    },
    {
      "cell_type": "code",
      "source": [
        "# Modificamos el nombre de la columna id, para después poder hacer un merge con el resto de datasets sin problema.\n",
        "\n",
        "df_listings = df_listings.rename(columns={'id' : 'listing_id'})"
      ],
      "metadata": {
        "id": "_yeMEgu0079D"
      },
      "execution_count": 16,
      "outputs": []
    },
    {
      "cell_type": "code",
      "source": [
        "df_listings.shape"
      ],
      "metadata": {
        "colab": {
          "base_uri": "https://localhost:8080/"
        },
        "id": "Muqr43Gk1nMJ",
        "outputId": "15d3926f-c3f1-4c9c-f043-1013ce9a9b65"
      },
      "execution_count": 20,
      "outputs": [
        {
          "output_type": "execute_result",
          "data": {
            "text/plain": [
              "(23729, 15)"
            ]
          },
          "metadata": {},
          "execution_count": 20
        }
      ]
    },
    {
      "cell_type": "markdown",
      "source": [
        "### Reviews"
      ],
      "metadata": {
        "id": "c7F4rowvyD6w"
      }
    },
    {
      "cell_type": "code",
      "source": [
        "df_reviews = pd.read_csv('/content/drive/MyDrive/Proyectos/Proyecto_AirBnb/Datasets para EDA/reviews_limpios.csv')"
      ],
      "metadata": {
        "id": "wXAyBTbNyGDd"
      },
      "execution_count": 12,
      "outputs": []
    },
    {
      "cell_type": "code",
      "source": [
        "df_reviews.info()"
      ],
      "metadata": {
        "colab": {
          "base_uri": "https://localhost:8080/"
        },
        "id": "SPDqSCBZyN8-",
        "outputId": "16c383cb-b428-4952-953a-cbb306f8dad4"
      },
      "execution_count": 23,
      "outputs": [
        {
          "output_type": "stream",
          "name": "stdout",
          "text": [
            "<class 'pandas.core.frame.DataFrame'>\n",
            "RangeIndex: 386928 entries, 0 to 386927\n",
            "Data columns (total 5 columns):\n",
            " #   Column              Non-Null Count   Dtype \n",
            "---  ------              --------------   ----- \n",
            " 0   listing_id          386928 non-null  int64 \n",
            " 1   id                  386928 non-null  int64 \n",
            " 2   date                386928 non-null  object\n",
            " 3   reviewer_id         386928 non-null  int64 \n",
            " 4   sentiment_analysis  386928 non-null  int64 \n",
            "dtypes: int64(4), object(1)\n",
            "memory usage: 14.8+ MB\n"
          ]
        }
      ]
    },
    {
      "cell_type": "markdown",
      "source": [
        "### Unificamos toda la data a través de *listing_id*"
      ],
      "metadata": {
        "id": "N9b8OfDOzpLQ"
      }
    },
    {
      "cell_type": "code",
      "source": [
        "u1 = pd.merge(df_reviews, df_listings, on= 'listing_id', how= 'outer')"
      ],
      "metadata": {
        "id": "sUoRPjekz3l2"
      },
      "execution_count": 25,
      "outputs": []
    },
    {
      "cell_type": "code",
      "source": [
        "u1.shape"
      ],
      "metadata": {
        "colab": {
          "base_uri": "https://localhost:8080/"
        },
        "id": "jXp_ATA61yzS",
        "outputId": "a191947d-f694-45b9-b20c-1ae66efed44f"
      },
      "execution_count": 26,
      "outputs": [
        {
          "output_type": "execute_result",
          "data": {
            "text/plain": [
              "(393436, 19)"
            ]
          },
          "metadata": {},
          "execution_count": 26
        }
      ]
    }
  ]
}